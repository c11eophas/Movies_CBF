{
 "cells": [
  {
   "cell_type": "code",
   "execution_count": 18,
   "id": "7fc2504d-cd9f-4b1f-83a1-26b6098ced55",
   "metadata": {},
   "outputs": [],
   "source": [
    "#imports\n",
    "import numpy as np\n",
    "import numpy.ma as ma\n",
    "from numpy import genfromtxt\n",
    "from collections import defaultdict\n",
    "import pandas as pd\n",
    "import tensorflow as tf\n",
    "from tensorflow import keras\n",
    "from sklearn.preprocessing import StandardScaler, MinMaxScaler\n",
    "from sklearn.model_selection import train_test_split\n",
    "import tabulate\n",
    "# import utils.py\n",
    "\n",
    "#utils code from Andrew ng (could not import as a module)\n",
    "#replaced pickle5 with pickle to suit latest verson of python\n",
    "\n",
    "import pickle\n",
    "from tensorflow.keras.models import Model\n",
    "import csv\n",
    "import re\n",
    "import tabulate\n",
    "\n",
    "def load_data():\n",
    "    item_train = genfromtxt('content_item_train.csv', delimiter=',')\n",
    "    user_train = genfromtxt('content_user_train.csv', delimiter=',')\n",
    "    y_train    = genfromtxt('content_y_train.csv', delimiter=',')\n",
    "\n",
    "    with open('content_item_train_header.txt', newline='') as f:\n",
    "        item_features = list(csv.reader(f))[0]\n",
    "\n",
    "    with open('content_user_train_header.txt', newline='') as f:\n",
    "        user_features = list(csv.reader(f))[0]\n",
    "\n",
    "    item_vecs = genfromtxt('content_item_vecs.csv', delimiter=',')\n",
    "\n",
    "    movie_dict = defaultdict(dict)\n",
    "    with open('content_movie_list.csv', newline='') as csvfile:\n",
    "        reader = csv.reader(csvfile, delimiter=',', quotechar='\"')\n",
    "        next(reader)  # Skip header\n",
    "        for line in reader:\n",
    "            movie_id = int(line[0])\n",
    "            movie_dict[movie_id][\"title\"] = line[1]\n",
    "            movie_dict[movie_id][\"genres\"] = line[2]\n",
    "\n",
    "    with open('content_user_to_genre.pickle', 'rb') as f:\n",
    "        user_to_genre = pickle.load(f)\n",
    "\n",
    "    return item_train, user_train, y_train, item_features, user_features, item_vecs, movie_dict, user_to_genre\n",
    "\n",
    "\n",
    "def pprint_train(x_train, features, vs, u_s, maxcount=5, user=True):\n",
    "    if user:\n",
    "        flist = [\".0f\", \".0f\", \".1f\"] + [\".1f\"] * (x_train.shape[1] - 3)\n",
    "    else:\n",
    "        flist = [\".0f\", \".0f\", \".1f\"] + [\".0f\"] * (x_train.shape[1] - 3)\n",
    "\n",
    "    head = features[:vs]\n",
    "    if vs < u_s:\n",
    "        print(f\"error, vector start {vs} should be greater than user start {u_s}\")\n",
    "    for i in range(u_s):\n",
    "        head[i] = \"[\" + head[i] + \"]\"\n",
    "    genres = features[vs:]\n",
    "    hdr = head + genres\n",
    "    disp = [split_str(hdr, 5)]\n",
    "\n",
    "    for i in range(min(maxcount, x_train.shape[0])):\n",
    "        disp.append([\n",
    "            x_train[i, 0].astype(int),\n",
    "            x_train[i, 1].astype(int),\n",
    "            x_train[i, 2].astype(float),\n",
    "            *x_train[i, 3:].astype(float)\n",
    "        ])\n",
    "\n",
    "    table = tabulate.tabulate(disp, tablefmt='html', headers=\"firstrow\", floatfmt=flist, numalign='center')\n",
    "    return table\n",
    "\n",
    "\n",
    "def pprint_data_tab(y_p, user_train, item_train, uvs, ivs, user_features, item_features, maxcount=20):\n",
    "    flist = [\".1f\", \".1f\", \".0f\", \".1f\", \".0f\", \".0f\", \".0f\"] + [\".1f\"] * (user_train.shape[1] - uvs)\n",
    "    user_head = user_features[:uvs]\n",
    "    genres = user_features[uvs:]\n",
    "    item_head = item_features[:ivs]\n",
    "    hdr = [\"y_p\", \"y\"] + user_head + item_head + genres\n",
    "    disp = [split_str(hdr, 5)]\n",
    "\n",
    "    for i in range(min(maxcount, y_p.shape[0])):\n",
    "        a = user_train[i, uvs:]\n",
    "        b = item_train[i, ivs:]\n",
    "        c = np.multiply(a, b)\n",
    "\n",
    "        disp.append([\n",
    "            y_p[i, 0], 0,\n",
    "            user_train[i, 0].astype(int),\n",
    "            user_train[i, 1].astype(int),\n",
    "            user_train[i, 2].astype(float),\n",
    "            item_train[i, 0].astype(int),\n",
    "            item_train[i, 1].astype(int),\n",
    "            item_train[i, 2].astype(float),\n",
    "            *c\n",
    "        ])\n",
    "\n",
    "    table = tabulate.tabulate(disp, tablefmt='html', headers=\"firstrow\", floatfmt=flist, numalign='center')\n",
    "    return table\n",
    "\n",
    "\n",
    "def split_str(ifeatures, smax):\n",
    "    ofeatures = []\n",
    "    for s in ifeatures:\n",
    "        if ' ' not in s and len(s) > smax:\n",
    "            mid = len(s) // 2\n",
    "            s = s[:mid] + \" \" + s[mid:]\n",
    "        ofeatures.append(s)\n",
    "    return ofeatures\n",
    "\n",
    "\n",
    "def gen_user_vecs(user_vec, num_items):\n",
    "    return np.tile(user_vec, (num_items, 1))\n",
    "\n",
    "\n",
    "def predict_uservec(user_vecs, item_vecs, model, u_s, i_s, scaler, ScalerUser, ScalerItem, scaledata=False):\n",
    "    if scaledata:\n",
    "        scaled_user_vecs = ScalerUser.transform(user_vecs)\n",
    "        scaled_item_vecs = ScalerItem.transform(item_vecs)\n",
    "        y_p = model.predict([scaled_user_vecs[:, u_s:], scaled_item_vecs[:, i_s:]])\n",
    "    else:\n",
    "        y_p = model.predict([user_vecs[:, u_s:], item_vecs[:, i_s:]])\n",
    "    y_pu = scaler.inverse_transform(y_p)\n",
    "\n",
    "    if np.any(y_pu < 0):\n",
    "        print(\"Error, expected all positive predictions\")\n",
    "\n",
    "    sorted_index = np.argsort(-y_pu, axis=0).reshape(-1).tolist()\n",
    "    sorted_ypu = y_pu[sorted_index]\n",
    "    sorted_items = item_vecs[sorted_index]\n",
    "    sorted_user = user_vecs[sorted_index]\n",
    "    return sorted_index, sorted_ypu, sorted_items, sorted_user\n",
    "\n",
    "\n",
    "def get_user_vecs(user_id, user_train, item_vecs, user_to_genre):\n",
    "    if str(user_id) not in user_to_genre:\n",
    "        print(\"error: unknown user id\")\n",
    "        return None\n",
    "\n",
    "    for user_vec in user_train:\n",
    "        if user_vec[0] == user_id:\n",
    "            break\n",
    "    else:\n",
    "        print(\"error in get_user_vecs, did not find uid in user_train\")\n",
    "        return None\n",
    "\n",
    "    num_items = len(item_vecs)\n",
    "    user_vecs = np.tile(user_vec, (num_items, 1))\n",
    "    y = np.zeros(num_items)\n",
    "\n",
    "    for i in range(num_items):\n",
    "        movie_id = item_vecs[i, 0]\n",
    "        rating = user_to_genre[str(user_id)]['movies'].get(str(int(movie_id)), 0)\n",
    "        y[i] = rating\n",
    "\n",
    "    return user_vecs, y\n",
    "\n",
    "\n",
    "def print_pred_movies(y_p, user, item, movie_dict, maxcount=10):\n",
    "    count = 0\n",
    "    movies_listed = set()\n",
    "    disp = [[\"y_p\", \"movie id\", \"rating ave\", \"title\", \"genres\"]]\n",
    "\n",
    "    for i in range(y_p.shape[0]):\n",
    "        if count >= maxcount:\n",
    "            break\n",
    "\n",
    "        movie_id = int(item[i, 0])\n",
    "        if movie_id in movies_listed:\n",
    "            continue\n",
    "\n",
    "        disp.append([\n",
    "            y_p[i, 0],\n",
    "            movie_id,\n",
    "            item[i, 2].astype(float),\n",
    "            movie_dict[movie_id]['title'],\n",
    "            movie_dict[movie_id]['genres']\n",
    "        ])\n",
    "        movies_listed.add(movie_id)\n",
    "        count += 1\n",
    "\n",
    "    return tabulate.tabulate(disp, tablefmt='html', headers=\"firstrow\")\n"
   ]
  },
  {
   "cell_type": "code",
   "execution_count": 19,
   "id": "fd40e8de-44e6-4519-bbfd-03ce99d5da11",
   "metadata": {
    "scrolled": true
   },
   "outputs": [
    {
     "name": "stdout",
     "output_type": "stream",
     "text": [
      "No. of training vectors: 58187\n"
     ]
    }
   ],
   "source": [
    "#load data and set config variables \n",
    "item_train, user_train, y_train, item_features, user_features, item_vecs, movie_dict, user_to_genre = load_data()\n",
    "\n",
    "num_user_features = user_train.shape[1] -3\n",
    "num_item_features = item_train.shape[1] -1\n",
    "\n",
    "uvs = 3  \n",
    "ivs = 3  \n",
    "u_s = 3  \n",
    "i_s = 1  \n",
    "scaledata = True  # applies the standard scalar to data if true\n",
    "print(f\"No. of training vectors: {len(item_train)}\")"
   ]
  },
  {
   "cell_type": "code",
   "execution_count": 20,
   "id": "78a004c7-d493-41ac-899f-f9ed74eb2776",
   "metadata": {},
   "outputs": [
    {
     "data": {
      "text/html": [
       "<table>\n",
       "<thead>\n",
       "<tr><th style=\"text-align: center;\"> [user id] </th><th style=\"text-align: center;\"> [rating count] </th><th style=\"text-align: center;\"> [rating ave] </th><th style=\"text-align: center;\"> Act ion </th><th style=\"text-align: center;\"> Adve nture </th><th style=\"text-align: center;\"> Anim ation </th><th style=\"text-align: center;\"> Chil dren </th><th style=\"text-align: center;\"> Com edy </th><th style=\"text-align: center;\"> Crime </th><th style=\"text-align: center;\"> Docum entary </th><th style=\"text-align: center;\"> Drama </th><th style=\"text-align: center;\"> Fan tasy </th><th style=\"text-align: center;\"> Hor ror </th><th style=\"text-align: center;\"> Mys tery </th><th style=\"text-align: center;\"> Rom ance </th><th style=\"text-align: center;\"> Sci -Fi </th><th style=\"text-align: center;\"> Thri ller </th></tr>\n",
       "</thead>\n",
       "<tbody>\n",
       "<tr><td style=\"text-align: center;\">     2     </td><td style=\"text-align: center;\">       16       </td><td style=\"text-align: center;\">     4.1      </td><td style=\"text-align: center;\">   3.9   </td><td style=\"text-align: center;\">    5.0     </td><td style=\"text-align: center;\">    0.0     </td><td style=\"text-align: center;\">    0.0    </td><td style=\"text-align: center;\">   4.0   </td><td style=\"text-align: center;\">  4.2  </td><td style=\"text-align: center;\">     4.0      </td><td style=\"text-align: center;\">  4.0  </td><td style=\"text-align: center;\">   0.0    </td><td style=\"text-align: center;\">   3.0   </td><td style=\"text-align: center;\">   4.0    </td><td style=\"text-align: center;\">   0.0    </td><td style=\"text-align: center;\">   4.2   </td><td style=\"text-align: center;\">    3.9    </td></tr>\n",
       "<tr><td style=\"text-align: center;\">     2     </td><td style=\"text-align: center;\">       16       </td><td style=\"text-align: center;\">     4.1      </td><td style=\"text-align: center;\">   3.9   </td><td style=\"text-align: center;\">    5.0     </td><td style=\"text-align: center;\">    0.0     </td><td style=\"text-align: center;\">    0.0    </td><td style=\"text-align: center;\">   4.0   </td><td style=\"text-align: center;\">  4.2  </td><td style=\"text-align: center;\">     4.0      </td><td style=\"text-align: center;\">  4.0  </td><td style=\"text-align: center;\">   0.0    </td><td style=\"text-align: center;\">   3.0   </td><td style=\"text-align: center;\">   4.0    </td><td style=\"text-align: center;\">   0.0    </td><td style=\"text-align: center;\">   4.2   </td><td style=\"text-align: center;\">    3.9    </td></tr>\n",
       "<tr><td style=\"text-align: center;\">     2     </td><td style=\"text-align: center;\">       16       </td><td style=\"text-align: center;\">     4.1      </td><td style=\"text-align: center;\">   3.9   </td><td style=\"text-align: center;\">    5.0     </td><td style=\"text-align: center;\">    0.0     </td><td style=\"text-align: center;\">    0.0    </td><td style=\"text-align: center;\">   4.0   </td><td style=\"text-align: center;\">  4.2  </td><td style=\"text-align: center;\">     4.0      </td><td style=\"text-align: center;\">  4.0  </td><td style=\"text-align: center;\">   0.0    </td><td style=\"text-align: center;\">   3.0   </td><td style=\"text-align: center;\">   4.0    </td><td style=\"text-align: center;\">   0.0    </td><td style=\"text-align: center;\">   4.2   </td><td style=\"text-align: center;\">    3.9    </td></tr>\n",
       "<tr><td style=\"text-align: center;\">     2     </td><td style=\"text-align: center;\">       16       </td><td style=\"text-align: center;\">     4.1      </td><td style=\"text-align: center;\">   3.9   </td><td style=\"text-align: center;\">    5.0     </td><td style=\"text-align: center;\">    0.0     </td><td style=\"text-align: center;\">    0.0    </td><td style=\"text-align: center;\">   4.0   </td><td style=\"text-align: center;\">  4.2  </td><td style=\"text-align: center;\">     4.0      </td><td style=\"text-align: center;\">  4.0  </td><td style=\"text-align: center;\">   0.0    </td><td style=\"text-align: center;\">   3.0   </td><td style=\"text-align: center;\">   4.0    </td><td style=\"text-align: center;\">   0.0    </td><td style=\"text-align: center;\">   4.2   </td><td style=\"text-align: center;\">    3.9    </td></tr>\n",
       "<tr><td style=\"text-align: center;\">     2     </td><td style=\"text-align: center;\">       16       </td><td style=\"text-align: center;\">     4.1      </td><td style=\"text-align: center;\">   3.9   </td><td style=\"text-align: center;\">    5.0     </td><td style=\"text-align: center;\">    0.0     </td><td style=\"text-align: center;\">    0.0    </td><td style=\"text-align: center;\">   4.0   </td><td style=\"text-align: center;\">  4.2  </td><td style=\"text-align: center;\">     4.0      </td><td style=\"text-align: center;\">  4.0  </td><td style=\"text-align: center;\">   0.0    </td><td style=\"text-align: center;\">   3.0   </td><td style=\"text-align: center;\">   4.0    </td><td style=\"text-align: center;\">   0.0    </td><td style=\"text-align: center;\">   4.2   </td><td style=\"text-align: center;\">    3.9    </td></tr>\n",
       "</tbody>\n",
       "</table>"
      ],
      "text/plain": [
       "'<table>\\n<thead>\\n<tr><th style=\"text-align: center;\"> [user id] </th><th style=\"text-align: center;\"> [rating count] </th><th style=\"text-align: center;\"> [rating ave] </th><th style=\"text-align: center;\"> Act ion </th><th style=\"text-align: center;\"> Adve nture </th><th style=\"text-align: center;\"> Anim ation </th><th style=\"text-align: center;\"> Chil dren </th><th style=\"text-align: center;\"> Com edy </th><th style=\"text-align: center;\"> Crime </th><th style=\"text-align: center;\"> Docum entary </th><th style=\"text-align: center;\"> Drama </th><th style=\"text-align: center;\"> Fan tasy </th><th style=\"text-align: center;\"> Hor ror </th><th style=\"text-align: center;\"> Mys tery </th><th style=\"text-align: center;\"> Rom ance </th><th style=\"text-align: center;\"> Sci -Fi </th><th style=\"text-align: center;\"> Thri ller </th></tr>\\n</thead>\\n<tbody>\\n<tr><td style=\"text-align: center;\">     2     </td><td style=\"text-align: center;\">       16       </td><td style=\"text-align: center;\">     4.1      </td><td style=\"text-align: center;\">   3.9   </td><td style=\"text-align: center;\">    5.0     </td><td style=\"text-align: center;\">    0.0     </td><td style=\"text-align: center;\">    0.0    </td><td style=\"text-align: center;\">   4.0   </td><td style=\"text-align: center;\">  4.2  </td><td style=\"text-align: center;\">     4.0      </td><td style=\"text-align: center;\">  4.0  </td><td style=\"text-align: center;\">   0.0    </td><td style=\"text-align: center;\">   3.0   </td><td style=\"text-align: center;\">   4.0    </td><td style=\"text-align: center;\">   0.0    </td><td style=\"text-align: center;\">   4.2   </td><td style=\"text-align: center;\">    3.9    </td></tr>\\n<tr><td style=\"text-align: center;\">     2     </td><td style=\"text-align: center;\">       16       </td><td style=\"text-align: center;\">     4.1      </td><td style=\"text-align: center;\">   3.9   </td><td style=\"text-align: center;\">    5.0     </td><td style=\"text-align: center;\">    0.0     </td><td style=\"text-align: center;\">    0.0    </td><td style=\"text-align: center;\">   4.0   </td><td style=\"text-align: center;\">  4.2  </td><td style=\"text-align: center;\">     4.0      </td><td style=\"text-align: center;\">  4.0  </td><td style=\"text-align: center;\">   0.0    </td><td style=\"text-align: center;\">   3.0   </td><td style=\"text-align: center;\">   4.0    </td><td style=\"text-align: center;\">   0.0    </td><td style=\"text-align: center;\">   4.2   </td><td style=\"text-align: center;\">    3.9    </td></tr>\\n<tr><td style=\"text-align: center;\">     2     </td><td style=\"text-align: center;\">       16       </td><td style=\"text-align: center;\">     4.1      </td><td style=\"text-align: center;\">   3.9   </td><td style=\"text-align: center;\">    5.0     </td><td style=\"text-align: center;\">    0.0     </td><td style=\"text-align: center;\">    0.0    </td><td style=\"text-align: center;\">   4.0   </td><td style=\"text-align: center;\">  4.2  </td><td style=\"text-align: center;\">     4.0      </td><td style=\"text-align: center;\">  4.0  </td><td style=\"text-align: center;\">   0.0    </td><td style=\"text-align: center;\">   3.0   </td><td style=\"text-align: center;\">   4.0    </td><td style=\"text-align: center;\">   0.0    </td><td style=\"text-align: center;\">   4.2   </td><td style=\"text-align: center;\">    3.9    </td></tr>\\n<tr><td style=\"text-align: center;\">     2     </td><td style=\"text-align: center;\">       16       </td><td style=\"text-align: center;\">     4.1      </td><td style=\"text-align: center;\">   3.9   </td><td style=\"text-align: center;\">    5.0     </td><td style=\"text-align: center;\">    0.0     </td><td style=\"text-align: center;\">    0.0    </td><td style=\"text-align: center;\">   4.0   </td><td style=\"text-align: center;\">  4.2  </td><td style=\"text-align: center;\">     4.0      </td><td style=\"text-align: center;\">  4.0  </td><td style=\"text-align: center;\">   0.0    </td><td style=\"text-align: center;\">   3.0   </td><td style=\"text-align: center;\">   4.0    </td><td style=\"text-align: center;\">   0.0    </td><td style=\"text-align: center;\">   4.2   </td><td style=\"text-align: center;\">    3.9    </td></tr>\\n<tr><td style=\"text-align: center;\">     2     </td><td style=\"text-align: center;\">       16       </td><td style=\"text-align: center;\">     4.1      </td><td style=\"text-align: center;\">   3.9   </td><td style=\"text-align: center;\">    5.0     </td><td style=\"text-align: center;\">    0.0     </td><td style=\"text-align: center;\">    0.0    </td><td style=\"text-align: center;\">   4.0   </td><td style=\"text-align: center;\">  4.2  </td><td style=\"text-align: center;\">     4.0      </td><td style=\"text-align: center;\">  4.0  </td><td style=\"text-align: center;\">   0.0    </td><td style=\"text-align: center;\">   3.0   </td><td style=\"text-align: center;\">   4.0    </td><td style=\"text-align: center;\">   0.0    </td><td style=\"text-align: center;\">   4.2   </td><td style=\"text-align: center;\">    3.9    </td></tr>\\n</tbody>\\n</table>'"
      ]
     },
     "execution_count": 20,
     "metadata": {},
     "output_type": "execute_result"
    }
   ],
   "source": [
    "#data visualization\n",
    "\n",
    "#user \n",
    "pprint_train(user_train, user_features, uvs,  u_s, maxcount=5)"
   ]
  },
  {
   "cell_type": "code",
   "execution_count": 21,
   "id": "9c3f2aeb-af37-4f14-aa67-40e4289434e3",
   "metadata": {},
   "outputs": [
    {
     "data": {
      "text/html": [
       "<table>\n",
       "<thead>\n",
       "<tr><th style=\"text-align: center;\"> [movie id] </th><th style=\"text-align: center;\"> year </th><th style=\"text-align: center;\"> ave rating </th><th style=\"text-align: center;\"> Act ion </th><th style=\"text-align: center;\"> Adve nture </th><th style=\"text-align: center;\"> Anim ation </th><th style=\"text-align: center;\"> Chil dren </th><th style=\"text-align: center;\"> Com edy </th><th style=\"text-align: center;\"> Crime </th><th style=\"text-align: center;\"> Docum entary </th><th style=\"text-align: center;\"> Drama </th><th style=\"text-align: center;\"> Fan tasy </th><th style=\"text-align: center;\"> Hor ror </th><th style=\"text-align: center;\"> Mys tery </th><th style=\"text-align: center;\"> Rom ance </th><th style=\"text-align: center;\"> Sci -Fi </th><th style=\"text-align: center;\"> Thri ller </th></tr>\n",
       "</thead>\n",
       "<tbody>\n",
       "<tr><td style=\"text-align: center;\">    6874    </td><td style=\"text-align: center;\"> 2003 </td><td style=\"text-align: center;\">    4.0     </td><td style=\"text-align: center;\">    1    </td><td style=\"text-align: center;\">     0      </td><td style=\"text-align: center;\">     0      </td><td style=\"text-align: center;\">     0     </td><td style=\"text-align: center;\">    0    </td><td style=\"text-align: center;\">   0   </td><td style=\"text-align: center;\">      0       </td><td style=\"text-align: center;\">   0   </td><td style=\"text-align: center;\">    0     </td><td style=\"text-align: center;\">    0    </td><td style=\"text-align: center;\">    0     </td><td style=\"text-align: center;\">    0     </td><td style=\"text-align: center;\">    0    </td><td style=\"text-align: center;\">     0     </td></tr>\n",
       "<tr><td style=\"text-align: center;\">    6874    </td><td style=\"text-align: center;\"> 2003 </td><td style=\"text-align: center;\">    4.0     </td><td style=\"text-align: center;\">    0    </td><td style=\"text-align: center;\">     0      </td><td style=\"text-align: center;\">     0      </td><td style=\"text-align: center;\">     0     </td><td style=\"text-align: center;\">    0    </td><td style=\"text-align: center;\">   1   </td><td style=\"text-align: center;\">      0       </td><td style=\"text-align: center;\">   0   </td><td style=\"text-align: center;\">    0     </td><td style=\"text-align: center;\">    0    </td><td style=\"text-align: center;\">    0     </td><td style=\"text-align: center;\">    0     </td><td style=\"text-align: center;\">    0    </td><td style=\"text-align: center;\">     0     </td></tr>\n",
       "<tr><td style=\"text-align: center;\">    6874    </td><td style=\"text-align: center;\"> 2003 </td><td style=\"text-align: center;\">    4.0     </td><td style=\"text-align: center;\">    0    </td><td style=\"text-align: center;\">     0      </td><td style=\"text-align: center;\">     0      </td><td style=\"text-align: center;\">     0     </td><td style=\"text-align: center;\">    0    </td><td style=\"text-align: center;\">   0   </td><td style=\"text-align: center;\">      0       </td><td style=\"text-align: center;\">   0   </td><td style=\"text-align: center;\">    0     </td><td style=\"text-align: center;\">    0    </td><td style=\"text-align: center;\">    0     </td><td style=\"text-align: center;\">    0     </td><td style=\"text-align: center;\">    0    </td><td style=\"text-align: center;\">     1     </td></tr>\n",
       "<tr><td style=\"text-align: center;\">    8798    </td><td style=\"text-align: center;\"> 2004 </td><td style=\"text-align: center;\">    3.8     </td><td style=\"text-align: center;\">    1    </td><td style=\"text-align: center;\">     0      </td><td style=\"text-align: center;\">     0      </td><td style=\"text-align: center;\">     0     </td><td style=\"text-align: center;\">    0    </td><td style=\"text-align: center;\">   0   </td><td style=\"text-align: center;\">      0       </td><td style=\"text-align: center;\">   0   </td><td style=\"text-align: center;\">    0     </td><td style=\"text-align: center;\">    0    </td><td style=\"text-align: center;\">    0     </td><td style=\"text-align: center;\">    0     </td><td style=\"text-align: center;\">    0    </td><td style=\"text-align: center;\">     0     </td></tr>\n",
       "<tr><td style=\"text-align: center;\">    8798    </td><td style=\"text-align: center;\"> 2004 </td><td style=\"text-align: center;\">    3.8     </td><td style=\"text-align: center;\">    0    </td><td style=\"text-align: center;\">     0      </td><td style=\"text-align: center;\">     0      </td><td style=\"text-align: center;\">     0     </td><td style=\"text-align: center;\">    0    </td><td style=\"text-align: center;\">   1   </td><td style=\"text-align: center;\">      0       </td><td style=\"text-align: center;\">   0   </td><td style=\"text-align: center;\">    0     </td><td style=\"text-align: center;\">    0    </td><td style=\"text-align: center;\">    0     </td><td style=\"text-align: center;\">    0     </td><td style=\"text-align: center;\">    0    </td><td style=\"text-align: center;\">     0     </td></tr>\n",
       "</tbody>\n",
       "</table>"
      ],
      "text/plain": [
       "'<table>\\n<thead>\\n<tr><th style=\"text-align: center;\"> [movie id] </th><th style=\"text-align: center;\"> year </th><th style=\"text-align: center;\"> ave rating </th><th style=\"text-align: center;\"> Act ion </th><th style=\"text-align: center;\"> Adve nture </th><th style=\"text-align: center;\"> Anim ation </th><th style=\"text-align: center;\"> Chil dren </th><th style=\"text-align: center;\"> Com edy </th><th style=\"text-align: center;\"> Crime </th><th style=\"text-align: center;\"> Docum entary </th><th style=\"text-align: center;\"> Drama </th><th style=\"text-align: center;\"> Fan tasy </th><th style=\"text-align: center;\"> Hor ror </th><th style=\"text-align: center;\"> Mys tery </th><th style=\"text-align: center;\"> Rom ance </th><th style=\"text-align: center;\"> Sci -Fi </th><th style=\"text-align: center;\"> Thri ller </th></tr>\\n</thead>\\n<tbody>\\n<tr><td style=\"text-align: center;\">    6874    </td><td style=\"text-align: center;\"> 2003 </td><td style=\"text-align: center;\">    4.0     </td><td style=\"text-align: center;\">    1    </td><td style=\"text-align: center;\">     0      </td><td style=\"text-align: center;\">     0      </td><td style=\"text-align: center;\">     0     </td><td style=\"text-align: center;\">    0    </td><td style=\"text-align: center;\">   0   </td><td style=\"text-align: center;\">      0       </td><td style=\"text-align: center;\">   0   </td><td style=\"text-align: center;\">    0     </td><td style=\"text-align: center;\">    0    </td><td style=\"text-align: center;\">    0     </td><td style=\"text-align: center;\">    0     </td><td style=\"text-align: center;\">    0    </td><td style=\"text-align: center;\">     0     </td></tr>\\n<tr><td style=\"text-align: center;\">    6874    </td><td style=\"text-align: center;\"> 2003 </td><td style=\"text-align: center;\">    4.0     </td><td style=\"text-align: center;\">    0    </td><td style=\"text-align: center;\">     0      </td><td style=\"text-align: center;\">     0      </td><td style=\"text-align: center;\">     0     </td><td style=\"text-align: center;\">    0    </td><td style=\"text-align: center;\">   1   </td><td style=\"text-align: center;\">      0       </td><td style=\"text-align: center;\">   0   </td><td style=\"text-align: center;\">    0     </td><td style=\"text-align: center;\">    0    </td><td style=\"text-align: center;\">    0     </td><td style=\"text-align: center;\">    0     </td><td style=\"text-align: center;\">    0    </td><td style=\"text-align: center;\">     0     </td></tr>\\n<tr><td style=\"text-align: center;\">    6874    </td><td style=\"text-align: center;\"> 2003 </td><td style=\"text-align: center;\">    4.0     </td><td style=\"text-align: center;\">    0    </td><td style=\"text-align: center;\">     0      </td><td style=\"text-align: center;\">     0      </td><td style=\"text-align: center;\">     0     </td><td style=\"text-align: center;\">    0    </td><td style=\"text-align: center;\">   0   </td><td style=\"text-align: center;\">      0       </td><td style=\"text-align: center;\">   0   </td><td style=\"text-align: center;\">    0     </td><td style=\"text-align: center;\">    0    </td><td style=\"text-align: center;\">    0     </td><td style=\"text-align: center;\">    0     </td><td style=\"text-align: center;\">    0    </td><td style=\"text-align: center;\">     1     </td></tr>\\n<tr><td style=\"text-align: center;\">    8798    </td><td style=\"text-align: center;\"> 2004 </td><td style=\"text-align: center;\">    3.8     </td><td style=\"text-align: center;\">    1    </td><td style=\"text-align: center;\">     0      </td><td style=\"text-align: center;\">     0      </td><td style=\"text-align: center;\">     0     </td><td style=\"text-align: center;\">    0    </td><td style=\"text-align: center;\">   0   </td><td style=\"text-align: center;\">      0       </td><td style=\"text-align: center;\">   0   </td><td style=\"text-align: center;\">    0     </td><td style=\"text-align: center;\">    0    </td><td style=\"text-align: center;\">    0     </td><td style=\"text-align: center;\">    0     </td><td style=\"text-align: center;\">    0    </td><td style=\"text-align: center;\">     0     </td></tr>\\n<tr><td style=\"text-align: center;\">    8798    </td><td style=\"text-align: center;\"> 2004 </td><td style=\"text-align: center;\">    3.8     </td><td style=\"text-align: center;\">    0    </td><td style=\"text-align: center;\">     0      </td><td style=\"text-align: center;\">     0      </td><td style=\"text-align: center;\">     0     </td><td style=\"text-align: center;\">    0    </td><td style=\"text-align: center;\">   1   </td><td style=\"text-align: center;\">      0       </td><td style=\"text-align: center;\">   0   </td><td style=\"text-align: center;\">    0     </td><td style=\"text-align: center;\">    0    </td><td style=\"text-align: center;\">    0     </td><td style=\"text-align: center;\">    0     </td><td style=\"text-align: center;\">    0    </td><td style=\"text-align: center;\">     0     </td></tr>\\n</tbody>\\n</table>'"
      ]
     },
     "execution_count": 21,
     "metadata": {},
     "output_type": "execute_result"
    }
   ],
   "source": [
    "#movies\n",
    "pprint_train(item_train, item_features, ivs, i_s, maxcount=5, user=False)"
   ]
  },
  {
   "cell_type": "code",
   "execution_count": 22,
   "id": "9e5f3605-2c25-491c-8fe2-2061c12dfced",
   "metadata": {},
   "outputs": [
    {
     "data": {
      "text/plain": [
       "58187"
      ]
     },
     "execution_count": 22,
     "metadata": {},
     "output_type": "execute_result"
    }
   ],
   "source": [
    "len(y_train)"
   ]
  },
  {
   "cell_type": "code",
   "execution_count": 23,
   "id": "99176561-6058-4dab-bbc2-cd0906b6e1f4",
   "metadata": {},
   "outputs": [],
   "source": [
    "#training data scaling \n",
    "scalerItem = StandardScaler()\n",
    "scalerItem.fit(item_train)\n",
    "item_train = scalerItem.transform(item_train)\n",
    "\n",
    "scalerUser = StandardScaler()\n",
    "scalerUser.fit(user_train)\n",
    "user_train = scalerUser.transform(user_train)\n"
   ]
  },
  {
   "cell_type": "code",
   "execution_count": 24,
   "id": "cd02bec6-e110-4236-afe9-a6878d06cc99",
   "metadata": {},
   "outputs": [],
   "source": [
    "#split data into training and test sets\n",
    "item_train, item_test = train_test_split(item_train, train_size=0.80, shuffle=True, random_state=1)\n",
    "user_train, user_test = train_test_split(user_train, train_size=0.80, shuffle=True, random_state=1)\n",
    "y_train, y_test = train_test_split(y_train, train_size=0.80, shuffle=True, random_state=1)\n",
    "\n",
    "#min max scaling of targets to be between -1 and 1 \n",
    "scaler = MinMaxScaler((-1, 1))\n",
    "scaler.fit(y_train.reshape(-1, 1))\n",
    "ynorm_train = scaler.transform(y_train.reshape(-1, 1))\n",
    "ynorm_test = scaler.transform(y_test.reshape(-1, 1))"
   ]
  },
  {
   "cell_type": "code",
   "execution_count": 25,
   "id": "9f7a1cdb-0ee6-4cbd-b6a4-42c5fee767ca",
   "metadata": {},
   "outputs": [
    {
     "data": {
      "text/plain": [
       "((46549, 17), (11638, 17))"
      ]
     },
     "execution_count": 25,
     "metadata": {},
     "output_type": "execute_result"
    }
   ],
   "source": [
    "item_train.shape, item_test.shape"
   ]
  },
  {
   "cell_type": "code",
   "execution_count": 26,
   "id": "9ff6c0ad-3287-4fe6-b4cd-813c86e06d3a",
   "metadata": {},
   "outputs": [
    {
     "data": {
      "text/plain": [
       "((46549, 17), (11638, 17))"
      ]
     },
     "execution_count": 26,
     "metadata": {},
     "output_type": "execute_result"
    }
   ],
   "source": [
    "user_train.shape, user_test.shape"
   ]
  },
  {
   "cell_type": "code",
   "execution_count": 27,
   "id": "fb5ac2dd-1ad6-4249-9197-f04d3d6f96c7",
   "metadata": {},
   "outputs": [
    {
     "data": {
      "text/html": [
       "<pre style=\"white-space:pre;overflow-x:auto;line-height:normal;font-family:Menlo,'DejaVu Sans Mono',consolas,'Courier New',monospace\"><span style=\"font-weight: bold\">Model: \"functional_5\"</span>\n",
       "</pre>\n"
      ],
      "text/plain": [
       "\u001b[1mModel: \"functional_5\"\u001b[0m\n"
      ]
     },
     "metadata": {},
     "output_type": "display_data"
    },
    {
     "data": {
      "text/html": [
       "<pre style=\"white-space:pre;overflow-x:auto;line-height:normal;font-family:Menlo,'DejaVu Sans Mono',consolas,'Courier New',monospace\">┏━━━━━━━━━━━━━━━━━━━━━━━━━━━━━━━┳━━━━━━━━━━━━━━━━━━━━━━━━━━━┳━━━━━━━━━━━━━━━━━┳━━━━━━━━━━━━━━━━━━━━━━━━━━━━┓\n",
       "┃<span style=\"font-weight: bold\"> Layer (type)                  </span>┃<span style=\"font-weight: bold\"> Output Shape              </span>┃<span style=\"font-weight: bold\">         Param # </span>┃<span style=\"font-weight: bold\"> Connected to               </span>┃\n",
       "┡━━━━━━━━━━━━━━━━━━━━━━━━━━━━━━━╇━━━━━━━━━━━━━━━━━━━━━━━━━━━╇━━━━━━━━━━━━━━━━━╇━━━━━━━━━━━━━━━━━━━━━━━━━━━━┩\n",
       "│ input_layer_4 (<span style=\"color: #0087ff; text-decoration-color: #0087ff\">InputLayer</span>)    │ (<span style=\"color: #00d7ff; text-decoration-color: #00d7ff\">None</span>, <span style=\"color: #00af00; text-decoration-color: #00af00\">14</span>)                │               <span style=\"color: #00af00; text-decoration-color: #00af00\">0</span> │ -                          │\n",
       "├───────────────────────────────┼───────────────────────────┼─────────────────┼────────────────────────────┤\n",
       "│ input_layer_5 (<span style=\"color: #0087ff; text-decoration-color: #0087ff\">InputLayer</span>)    │ (<span style=\"color: #00d7ff; text-decoration-color: #00d7ff\">None</span>, <span style=\"color: #00af00; text-decoration-color: #00af00\">16</span>)                │               <span style=\"color: #00af00; text-decoration-color: #00af00\">0</span> │ -                          │\n",
       "├───────────────────────────────┼───────────────────────────┼─────────────────┼────────────────────────────┤\n",
       "│ sequential_2 (<span style=\"color: #0087ff; text-decoration-color: #0087ff\">Sequential</span>)     │ (<span style=\"color: #00d7ff; text-decoration-color: #00d7ff\">None</span>, <span style=\"color: #00af00; text-decoration-color: #00af00\">32</span>)                │          <span style=\"color: #00af00; text-decoration-color: #00af00\">40,864</span> │ input_layer_4[<span style=\"color: #00af00; text-decoration-color: #00af00\">0</span>][<span style=\"color: #00af00; text-decoration-color: #00af00\">0</span>]        │\n",
       "├───────────────────────────────┼───────────────────────────┼─────────────────┼────────────────────────────┤\n",
       "│ sequential_3 (<span style=\"color: #0087ff; text-decoration-color: #0087ff\">Sequential</span>)     │ (<span style=\"color: #00d7ff; text-decoration-color: #00d7ff\">None</span>, <span style=\"color: #00af00; text-decoration-color: #00af00\">32</span>)                │          <span style=\"color: #00af00; text-decoration-color: #00af00\">41,376</span> │ input_layer_5[<span style=\"color: #00af00; text-decoration-color: #00af00\">0</span>][<span style=\"color: #00af00; text-decoration-color: #00af00\">0</span>]        │\n",
       "├───────────────────────────────┼───────────────────────────┼─────────────────┼────────────────────────────┤\n",
       "│ lambda_2 (<span style=\"color: #0087ff; text-decoration-color: #0087ff\">Lambda</span>)             │ (<span style=\"color: #00d7ff; text-decoration-color: #00d7ff\">None</span>, <span style=\"color: #00af00; text-decoration-color: #00af00\">32</span>)                │               <span style=\"color: #00af00; text-decoration-color: #00af00\">0</span> │ sequential_2[<span style=\"color: #00af00; text-decoration-color: #00af00\">0</span>][<span style=\"color: #00af00; text-decoration-color: #00af00\">0</span>]         │\n",
       "├───────────────────────────────┼───────────────────────────┼─────────────────┼────────────────────────────┤\n",
       "│ lambda_3 (<span style=\"color: #0087ff; text-decoration-color: #0087ff\">Lambda</span>)             │ (<span style=\"color: #00d7ff; text-decoration-color: #00d7ff\">None</span>, <span style=\"color: #00af00; text-decoration-color: #00af00\">32</span>)                │               <span style=\"color: #00af00; text-decoration-color: #00af00\">0</span> │ sequential_3[<span style=\"color: #00af00; text-decoration-color: #00af00\">0</span>][<span style=\"color: #00af00; text-decoration-color: #00af00\">0</span>]         │\n",
       "├───────────────────────────────┼───────────────────────────┼─────────────────┼────────────────────────────┤\n",
       "│ dot_1 (<span style=\"color: #0087ff; text-decoration-color: #0087ff\">Dot</span>)                   │ (<span style=\"color: #00d7ff; text-decoration-color: #00d7ff\">None</span>, <span style=\"color: #00af00; text-decoration-color: #00af00\">1</span>)                 │               <span style=\"color: #00af00; text-decoration-color: #00af00\">0</span> │ lambda_2[<span style=\"color: #00af00; text-decoration-color: #00af00\">0</span>][<span style=\"color: #00af00; text-decoration-color: #00af00\">0</span>],            │\n",
       "│                               │                           │                 │ lambda_3[<span style=\"color: #00af00; text-decoration-color: #00af00\">0</span>][<span style=\"color: #00af00; text-decoration-color: #00af00\">0</span>]             │\n",
       "└───────────────────────────────┴───────────────────────────┴─────────────────┴────────────────────────────┘\n",
       "</pre>\n"
      ],
      "text/plain": [
       "┏━━━━━━━━━━━━━━━━━━━━━━━━━━━━━━━┳━━━━━━━━━━━━━━━━━━━━━━━━━━━┳━━━━━━━━━━━━━━━━━┳━━━━━━━━━━━━━━━━━━━━━━━━━━━━┓\n",
       "┃\u001b[1m \u001b[0m\u001b[1mLayer (type)                 \u001b[0m\u001b[1m \u001b[0m┃\u001b[1m \u001b[0m\u001b[1mOutput Shape             \u001b[0m\u001b[1m \u001b[0m┃\u001b[1m \u001b[0m\u001b[1m        Param #\u001b[0m\u001b[1m \u001b[0m┃\u001b[1m \u001b[0m\u001b[1mConnected to              \u001b[0m\u001b[1m \u001b[0m┃\n",
       "┡━━━━━━━━━━━━━━━━━━━━━━━━━━━━━━━╇━━━━━━━━━━━━━━━━━━━━━━━━━━━╇━━━━━━━━━━━━━━━━━╇━━━━━━━━━━━━━━━━━━━━━━━━━━━━┩\n",
       "│ input_layer_4 (\u001b[38;5;33mInputLayer\u001b[0m)    │ (\u001b[38;5;45mNone\u001b[0m, \u001b[38;5;34m14\u001b[0m)                │               \u001b[38;5;34m0\u001b[0m │ -                          │\n",
       "├───────────────────────────────┼───────────────────────────┼─────────────────┼────────────────────────────┤\n",
       "│ input_layer_5 (\u001b[38;5;33mInputLayer\u001b[0m)    │ (\u001b[38;5;45mNone\u001b[0m, \u001b[38;5;34m16\u001b[0m)                │               \u001b[38;5;34m0\u001b[0m │ -                          │\n",
       "├───────────────────────────────┼───────────────────────────┼─────────────────┼────────────────────────────┤\n",
       "│ sequential_2 (\u001b[38;5;33mSequential\u001b[0m)     │ (\u001b[38;5;45mNone\u001b[0m, \u001b[38;5;34m32\u001b[0m)                │          \u001b[38;5;34m40,864\u001b[0m │ input_layer_4[\u001b[38;5;34m0\u001b[0m][\u001b[38;5;34m0\u001b[0m]        │\n",
       "├───────────────────────────────┼───────────────────────────┼─────────────────┼────────────────────────────┤\n",
       "│ sequential_3 (\u001b[38;5;33mSequential\u001b[0m)     │ (\u001b[38;5;45mNone\u001b[0m, \u001b[38;5;34m32\u001b[0m)                │          \u001b[38;5;34m41,376\u001b[0m │ input_layer_5[\u001b[38;5;34m0\u001b[0m][\u001b[38;5;34m0\u001b[0m]        │\n",
       "├───────────────────────────────┼───────────────────────────┼─────────────────┼────────────────────────────┤\n",
       "│ lambda_2 (\u001b[38;5;33mLambda\u001b[0m)             │ (\u001b[38;5;45mNone\u001b[0m, \u001b[38;5;34m32\u001b[0m)                │               \u001b[38;5;34m0\u001b[0m │ sequential_2[\u001b[38;5;34m0\u001b[0m][\u001b[38;5;34m0\u001b[0m]         │\n",
       "├───────────────────────────────┼───────────────────────────┼─────────────────┼────────────────────────────┤\n",
       "│ lambda_3 (\u001b[38;5;33mLambda\u001b[0m)             │ (\u001b[38;5;45mNone\u001b[0m, \u001b[38;5;34m32\u001b[0m)                │               \u001b[38;5;34m0\u001b[0m │ sequential_3[\u001b[38;5;34m0\u001b[0m][\u001b[38;5;34m0\u001b[0m]         │\n",
       "├───────────────────────────────┼───────────────────────────┼─────────────────┼────────────────────────────┤\n",
       "│ dot_1 (\u001b[38;5;33mDot\u001b[0m)                   │ (\u001b[38;5;45mNone\u001b[0m, \u001b[38;5;34m1\u001b[0m)                 │               \u001b[38;5;34m0\u001b[0m │ lambda_2[\u001b[38;5;34m0\u001b[0m][\u001b[38;5;34m0\u001b[0m],            │\n",
       "│                               │                           │                 │ lambda_3[\u001b[38;5;34m0\u001b[0m][\u001b[38;5;34m0\u001b[0m]             │\n",
       "└───────────────────────────────┴───────────────────────────┴─────────────────┴────────────────────────────┘\n"
      ]
     },
     "metadata": {},
     "output_type": "display_data"
    },
    {
     "data": {
      "text/html": [
       "<pre style=\"white-space:pre;overflow-x:auto;line-height:normal;font-family:Menlo,'DejaVu Sans Mono',consolas,'Courier New',monospace\"><span style=\"font-weight: bold\"> Total params: </span><span style=\"color: #00af00; text-decoration-color: #00af00\">82,240</span> (321.25 KB)\n",
       "</pre>\n"
      ],
      "text/plain": [
       "\u001b[1m Total params: \u001b[0m\u001b[38;5;34m82,240\u001b[0m (321.25 KB)\n"
      ]
     },
     "metadata": {},
     "output_type": "display_data"
    },
    {
     "data": {
      "text/html": [
       "<pre style=\"white-space:pre;overflow-x:auto;line-height:normal;font-family:Menlo,'DejaVu Sans Mono',consolas,'Courier New',monospace\"><span style=\"font-weight: bold\"> Trainable params: </span><span style=\"color: #00af00; text-decoration-color: #00af00\">82,240</span> (321.25 KB)\n",
       "</pre>\n"
      ],
      "text/plain": [
       "\u001b[1m Trainable params: \u001b[0m\u001b[38;5;34m82,240\u001b[0m (321.25 KB)\n"
      ]
     },
     "metadata": {},
     "output_type": "display_data"
    },
    {
     "data": {
      "text/html": [
       "<pre style=\"white-space:pre;overflow-x:auto;line-height:normal;font-family:Menlo,'DejaVu Sans Mono',consolas,'Courier New',monospace\"><span style=\"font-weight: bold\"> Non-trainable params: </span><span style=\"color: #00af00; text-decoration-color: #00af00\">0</span> (0.00 B)\n",
       "</pre>\n"
      ],
      "text/plain": [
       "\u001b[1m Non-trainable params: \u001b[0m\u001b[38;5;34m0\u001b[0m (0.00 B)\n"
      ]
     },
     "metadata": {},
     "output_type": "display_data"
    }
   ],
   "source": [
    "#model \n",
    "import tensorflow as tf\n",
    "from tensorflow.keras.models import Model\n",
    "from tensorflow.keras.layers import Input, Lambda, Dot\n",
    "\n",
    "# Define feature dimensions\n",
    "num_outputs = 32\n",
    "\n",
    "tf.random.set_seed(1)\n",
    "\n",
    "# User neural network\n",
    "user_NN = tf.keras.models.Sequential([\n",
    "    tf.keras.layers.Dense(256, activation='relu'),\n",
    "    tf.keras.layers.Dense(128, activation='relu'),\n",
    "    tf.keras.layers.Dense(num_outputs, activation='linear'),\n",
    "])\n",
    "\n",
    "# Item neural network\n",
    "item_NN = tf.keras.models.Sequential([\n",
    "    tf.keras.layers.Dense(256, activation='relu'),\n",
    "    tf.keras.layers.Dense(128, activation='relu'),\n",
    "    tf.keras.layers.Dense(num_outputs, activation='linear'),\n",
    "])\n",
    "\n",
    "# Define inputs\n",
    "input_user = Input(shape=(num_user_features,))\n",
    "input_item = Input(shape=(num_item_features,))\n",
    "\n",
    "# base networks + normalization using Lambda layers\n",
    "vu = Lambda(lambda x: tf.linalg.l2_normalize(x, axis=1))(user_NN(input_user))\n",
    "vm = Lambda(lambda x: tf.linalg.l2_normalize(x, axis=1))(item_NN(input_item))\n",
    "\n",
    "# Dot product\n",
    "output = Dot(axes=1)([vu, vm])\n",
    "\n",
    "# Build model\n",
    "model = Model(inputs=[input_user, input_item], outputs=output)\n",
    "\n",
    "# Show model summary\n",
    "model.summary()\n"
   ]
  },
  {
   "cell_type": "code",
   "execution_count": 28,
   "id": "2be7bccc-4934-4205-bd39-eb7dcd5456cc",
   "metadata": {},
   "outputs": [],
   "source": [
    "# loss, optimizer and model training \n",
    "tf.random.set_seed(1)\n",
    "Loss = tf.keras.losses.MeanSquaredError()\n",
    "opt = tf.keras.optimizers.Adam(learning_rate=0.01)\n",
    "model.compile(optimizer = opt, loss = Loss)"
   ]
  },
  {
   "cell_type": "code",
   "execution_count": 29,
   "id": "426f63f8-8bbc-4853-831b-0e8d03e0c7fe",
   "metadata": {},
   "outputs": [
    {
     "name": "stdout",
     "output_type": "stream",
     "text": [
      "Epoch 1/30\n",
      "\u001b[1m1455/1455\u001b[0m \u001b[32m━━━━━━━━━━━━━━━━━━━━\u001b[0m\u001b[37m\u001b[0m \u001b[1m7s\u001b[0m 3ms/step - loss: 0.1290\n",
      "Epoch 2/30\n",
      "\u001b[1m1455/1455\u001b[0m \u001b[32m━━━━━━━━━━━━━━━━━━━━\u001b[0m\u001b[37m\u001b[0m \u001b[1m4s\u001b[0m 3ms/step - loss: 0.1170\n",
      "Epoch 3/30\n",
      "\u001b[1m1455/1455\u001b[0m \u001b[32m━━━━━━━━━━━━━━━━━━━━\u001b[0m\u001b[37m\u001b[0m \u001b[1m4s\u001b[0m 3ms/step - loss: 0.1146\n",
      "Epoch 4/30\n",
      "\u001b[1m1455/1455\u001b[0m \u001b[32m━━━━━━━━━━━━━━━━━━━━\u001b[0m\u001b[37m\u001b[0m \u001b[1m4s\u001b[0m 3ms/step - loss: 0.1132\n",
      "Epoch 5/30\n",
      "\u001b[1m1455/1455\u001b[0m \u001b[32m━━━━━━━━━━━━━━━━━━━━\u001b[0m\u001b[37m\u001b[0m \u001b[1m3s\u001b[0m 2ms/step - loss: 0.1119\n",
      "Epoch 6/30\n",
      "\u001b[1m1455/1455\u001b[0m \u001b[32m━━━━━━━━━━━━━━━━━━━━\u001b[0m\u001b[37m\u001b[0m \u001b[1m3s\u001b[0m 2ms/step - loss: 0.1106\n",
      "Epoch 7/30\n",
      "\u001b[1m1455/1455\u001b[0m \u001b[32m━━━━━━━━━━━━━━━━━━━━\u001b[0m\u001b[37m\u001b[0m \u001b[1m3s\u001b[0m 2ms/step - loss: 0.1092\n",
      "Epoch 8/30\n",
      "\u001b[1m1455/1455\u001b[0m \u001b[32m━━━━━━━━━━━━━━━━━━━━\u001b[0m\u001b[37m\u001b[0m \u001b[1m3s\u001b[0m 2ms/step - loss: 0.1081\n",
      "Epoch 9/30\n",
      "\u001b[1m1455/1455\u001b[0m \u001b[32m━━━━━━━━━━━━━━━━━━━━\u001b[0m\u001b[37m\u001b[0m \u001b[1m3s\u001b[0m 2ms/step - loss: 0.1072\n",
      "Epoch 10/30\n",
      "\u001b[1m1455/1455\u001b[0m \u001b[32m━━━━━━━━━━━━━━━━━━━━\u001b[0m\u001b[37m\u001b[0m \u001b[1m3s\u001b[0m 2ms/step - loss: 0.1065\n",
      "Epoch 11/30\n",
      "\u001b[1m1455/1455\u001b[0m \u001b[32m━━━━━━━━━━━━━━━━━━━━\u001b[0m\u001b[37m\u001b[0m \u001b[1m3s\u001b[0m 2ms/step - loss: 0.1059\n",
      "Epoch 12/30\n",
      "\u001b[1m1455/1455\u001b[0m \u001b[32m━━━━━━━━━━━━━━━━━━━━\u001b[0m\u001b[37m\u001b[0m \u001b[1m3s\u001b[0m 2ms/step - loss: 0.1053\n",
      "Epoch 13/30\n",
      "\u001b[1m1455/1455\u001b[0m \u001b[32m━━━━━━━━━━━━━━━━━━━━\u001b[0m\u001b[37m\u001b[0m \u001b[1m4s\u001b[0m 2ms/step - loss: 0.1047\n",
      "Epoch 14/30\n",
      "\u001b[1m1455/1455\u001b[0m \u001b[32m━━━━━━━━━━━━━━━━━━━━\u001b[0m\u001b[37m\u001b[0m \u001b[1m4s\u001b[0m 3ms/step - loss: 0.1042\n",
      "Epoch 15/30\n",
      "\u001b[1m1455/1455\u001b[0m \u001b[32m━━━━━━━━━━━━━━━━━━━━\u001b[0m\u001b[37m\u001b[0m \u001b[1m4s\u001b[0m 2ms/step - loss: 0.1036\n",
      "Epoch 16/30\n",
      "\u001b[1m1455/1455\u001b[0m \u001b[32m━━━━━━━━━━━━━━━━━━━━\u001b[0m\u001b[37m\u001b[0m \u001b[1m4s\u001b[0m 2ms/step - loss: 0.1030\n",
      "Epoch 17/30\n",
      "\u001b[1m1455/1455\u001b[0m \u001b[32m━━━━━━━━━━━━━━━━━━━━\u001b[0m\u001b[37m\u001b[0m \u001b[1m3s\u001b[0m 2ms/step - loss: 0.1025\n",
      "Epoch 18/30\n",
      "\u001b[1m1455/1455\u001b[0m \u001b[32m━━━━━━━━━━━━━━━━━━━━\u001b[0m\u001b[37m\u001b[0m \u001b[1m3s\u001b[0m 2ms/step - loss: 0.1019\n",
      "Epoch 19/30\n",
      "\u001b[1m1455/1455\u001b[0m \u001b[32m━━━━━━━━━━━━━━━━━━━━\u001b[0m\u001b[37m\u001b[0m \u001b[1m3s\u001b[0m 2ms/step - loss: 0.1014\n",
      "Epoch 20/30\n",
      "\u001b[1m1455/1455\u001b[0m \u001b[32m━━━━━━━━━━━━━━━━━━━━\u001b[0m\u001b[37m\u001b[0m \u001b[1m4s\u001b[0m 2ms/step - loss: 0.1009\n",
      "Epoch 21/30\n",
      "\u001b[1m1455/1455\u001b[0m \u001b[32m━━━━━━━━━━━━━━━━━━━━\u001b[0m\u001b[37m\u001b[0m \u001b[1m3s\u001b[0m 2ms/step - loss: 0.1005\n",
      "Epoch 22/30\n",
      "\u001b[1m1455/1455\u001b[0m \u001b[32m━━━━━━━━━━━━━━━━━━━━\u001b[0m\u001b[37m\u001b[0m \u001b[1m3s\u001b[0m 2ms/step - loss: 0.0999\n",
      "Epoch 23/30\n",
      "\u001b[1m1455/1455\u001b[0m \u001b[32m━━━━━━━━━━━━━━━━━━━━\u001b[0m\u001b[37m\u001b[0m \u001b[1m3s\u001b[0m 2ms/step - loss: 0.0994\n",
      "Epoch 24/30\n",
      "\u001b[1m1455/1455\u001b[0m \u001b[32m━━━━━━━━━━━━━━━━━━━━\u001b[0m\u001b[37m\u001b[0m \u001b[1m3s\u001b[0m 2ms/step - loss: 0.0991\n",
      "Epoch 25/30\n",
      "\u001b[1m1455/1455\u001b[0m \u001b[32m━━━━━━━━━━━━━━━━━━━━\u001b[0m\u001b[37m\u001b[0m \u001b[1m3s\u001b[0m 2ms/step - loss: 0.0987\n",
      "Epoch 26/30\n",
      "\u001b[1m1455/1455\u001b[0m \u001b[32m━━━━━━━━━━━━━━━━━━━━\u001b[0m\u001b[37m\u001b[0m \u001b[1m3s\u001b[0m 2ms/step - loss: 0.0983\n",
      "Epoch 27/30\n",
      "\u001b[1m1455/1455\u001b[0m \u001b[32m━━━━━━━━━━━━━━━━━━━━\u001b[0m\u001b[37m\u001b[0m \u001b[1m3s\u001b[0m 2ms/step - loss: 0.0979\n",
      "Epoch 28/30\n",
      "\u001b[1m1455/1455\u001b[0m \u001b[32m━━━━━━━━━━━━━━━━━━━━\u001b[0m\u001b[37m\u001b[0m \u001b[1m3s\u001b[0m 2ms/step - loss: 0.0977\n",
      "Epoch 29/30\n",
      "\u001b[1m1455/1455\u001b[0m \u001b[32m━━━━━━━━━━━━━━━━━━━━\u001b[0m\u001b[37m\u001b[0m \u001b[1m3s\u001b[0m 2ms/step - loss: 0.0973\n",
      "Epoch 30/30\n",
      "\u001b[1m1455/1455\u001b[0m \u001b[32m━━━━━━━━━━━━━━━━━━━━\u001b[0m\u001b[37m\u001b[0m \u001b[1m3s\u001b[0m 2ms/step - loss: 0.0970\n"
     ]
    },
    {
     "data": {
      "text/plain": [
       "<keras.src.callbacks.history.History at 0x1d8437ebb60>"
      ]
     },
     "execution_count": 29,
     "metadata": {},
     "output_type": "execute_result"
    }
   ],
   "source": [
    "tf.random.set_seed(1)\n",
    "model.fit([user_train[:, u_s:], item_train[:, i_s:]], ynorm_train, epochs=30)"
   ]
  },
  {
   "cell_type": "code",
   "execution_count": 30,
   "id": "70644659-e07c-4488-8314-f1fc20c5be86",
   "metadata": {},
   "outputs": [
    {
     "name": "stdout",
     "output_type": "stream",
     "text": [
      "\u001b[1m364/364\u001b[0m \u001b[32m━━━━━━━━━━━━━━━━━━━━\u001b[0m\u001b[37m\u001b[0m \u001b[1m1s\u001b[0m 2ms/step - loss: 0.1063    \n"
     ]
    },
    {
     "data": {
      "text/plain": [
       "0.10620453953742981"
      ]
     },
     "execution_count": 30,
     "metadata": {},
     "output_type": "execute_result"
    }
   ],
   "source": [
    "model.evaluate([user_test[:, u_s:], item_test[:, i_s:]], ynorm_test)"
   ]
  },
  {
   "cell_type": "code",
   "execution_count": 31,
   "id": "31a2b175-c7f5-40ef-8bbe-3e552b9fb220",
   "metadata": {},
   "outputs": [],
   "source": [
    "# Evaluation loss is similar to training loss indicating model is not overfitted to training data"
   ]
  },
  {
   "cell_type": "code",
   "execution_count": 35,
   "id": "cf2e0868-6db5-459d-b088-d08397ed489f",
   "metadata": {},
   "outputs": [
    {
     "name": "stdout",
     "output_type": "stream",
     "text": [
      "\u001b[1m59/59\u001b[0m \u001b[32m━━━━━━━━━━━━━━━━━━━━\u001b[0m\u001b[37m\u001b[0m \u001b[1m0s\u001b[0m 5ms/step \n",
      "\n",
      "🔹 Top 10 Recommendations for User 5000:\n",
      "╒════════════╤══════════════════════════════╤════════════════════════════════════════════╤════════════════════╤══════════════╕\n",
      "│   Movie ID │ Title                        │ Genres                                     │   Predicted Rating │   Avg Rating │\n",
      "╞════════════╪══════════════════════════════╪════════════════════════════════════════════╪════════════════════╪══════════════╡\n",
      "│      63859 │ Bolt (2008)                  │ Action|Adventure|Animation|Children|Comedy │               4.75 │         3.39 │\n",
      "├────────────┼──────────────────────────────┼────────────────────────────────────────────┼────────────────────┼──────────────┤\n",
      "│      45517 │ Cars (2006)                  │ Animation|Children|Comedy                  │               4.75 │         3.38 │\n",
      "├────────────┼──────────────────────────────┼────────────────────────────────────────────┼────────────────────┼──────────────┤\n",
      "│      33615 │ Madagascar (2005)            │ Adventure|Animation|Children|Comedy        │               4.74 │         3.38 │\n",
      "├────────────┼──────────────────────────────┼────────────────────────────────────────────┼────────────────────┼──────────────┤\n",
      "│      53972 │ Live Free or Die Hard (2007) │ Action|Adventure|Crime|Thriller            │               4.74 │         3.41 │\n",
      "├────────────┼──────────────────────────────┼────────────────────────────────────────────┼────────────────────┼──────────────┤\n",
      "│      45431 │ Over the Hedge (2006)        │ Adventure|Animation|Children|Comedy        │               4.72 │         3.43 │\n",
      "├────────────┼──────────────────────────────┼────────────────────────────────────────────┼────────────────────┼──────────────┤\n",
      "│      52281 │ Grindhouse (2007)            │ Action|Crime|Horror|Sci-Fi|Thriller        │               4.72 │         3.43 │\n",
      "├────────────┼──────────────────────────────┼────────────────────────────────────────────┼────────────────────┼──────────────┤\n",
      "│      55290 │ Gone Baby Gone (2007)        │ Crime|Drama|Mystery                        │               4.7  │         3.45 │\n",
      "├────────────┼──────────────────────────────┼────────────────────────────────────────────┼────────────────────┼──────────────┤\n",
      "│      76293 │ Date Night (2010)            │ Action|Comedy|Romance                      │               4.69 │         3.32 │\n",
      "├────────────┼──────────────────────────────┼────────────────────────────────────────────┼────────────────────┼──────────────┤\n",
      "│     129354 │ Focus (2015)                 │ Comedy|Crime|Drama|Romance                 │               4.69 │         3.25 │\n",
      "├────────────┼──────────────────────────────┼────────────────────────────────────────────┼────────────────────┼──────────────┤\n",
      "│      54999 │ Shoot 'Em Up (2007)          │ Action|Comedy|Crime                        │               4.69 │         3.46 │\n",
      "╘════════════╧══════════════════════════════╧════════════════════════════════════════════╧════════════════════╧══════════════╛\n",
      "\u001b[1m59/59\u001b[0m \u001b[32m━━━━━━━━━━━━━━━━━━━━\u001b[0m\u001b[37m\u001b[0m \u001b[1m0s\u001b[0m 3ms/step \n",
      "\n",
      "🔹 Top 10 Recommendations for User 5001:\n",
      "╒════════════╤═════════════════════════════════════╤═══════════════════════════════════════╤════════════════════╤══════════════╕\n",
      "│   Movie ID │ Title                               │ Genres                                │   Predicted Rating │   Avg Rating │\n",
      "╞════════════╪═════════════════════════════════════╪═══════════════════════════════════════╪════════════════════╪══════════════╡\n",
      "│      27773 │ Old Boy (2003)                      │ Mystery|Thriller                      │               3.98 │         4.09 │\n",
      "├────────────┼─────────────────────────────────────┼───────────────────────────────────────┼────────────────────┼──────────────┤\n",
      "│      38061 │ Kiss Kiss Bang Bang (2005)          │ Comedy|Crime|Mystery|Thriller         │               3.96 │         4.07 │\n",
      "├────────────┼─────────────────────────────────────┼───────────────────────────────────────┼────────────────────┼──────────────┤\n",
      "│       6016 │ City of God (Cidade de Deus) (2002) │ Action|Adventure|Crime|Drama|Thriller │               3.94 │         4.15 │\n",
      "├────────────┼─────────────────────────────────────┼───────────────────────────────────────┼────────────────────┼──────────────┤\n",
      "│       6016 │ City of God (Cidade de Deus) (2002) │ Action|Adventure|Crime|Drama|Thriller │               3.93 │         4.15 │\n",
      "├────────────┼─────────────────────────────────────┼───────────────────────────────────────┼────────────────────┼──────────────┤\n",
      "│       7371 │ Dogville (2003)                     │ Drama|Mystery|Thriller                │               3.91 │         4.03 │\n",
      "├────────────┼─────────────────────────────────────┼───────────────────────────────────────┼────────────────────┼──────────────┤\n",
      "│      48516 │ Departed, The (2006)                │ Crime|Drama|Thriller                  │               3.88 │         4.25 │\n",
      "├────────────┼─────────────────────────────────────┼───────────────────────────────────────┼────────────────────┼──────────────┤\n",
      "│      55721 │ Elite Squad (Tropa de Elite) (2007) │ Action|Crime|Drama|Thriller           │               3.88 │         4.3  │\n",
      "├────────────┼─────────────────────────────────────┼───────────────────────────────────────┼────────────────────┼──────────────┤\n",
      "│      48780 │ Prestige, The (2006)                │ Drama|Mystery|Sci-Fi|Thriller         │               3.88 │         4.01 │\n",
      "├────────────┼─────────────────────────────────────┼───────────────────────────────────────┼────────────────────┼──────────────┤\n",
      "│      27773 │ Old Boy (2003)                      │ Mystery|Thriller                      │               3.87 │         4.09 │\n",
      "├────────────┼─────────────────────────────────────┼───────────────────────────────────────┼────────────────────┼──────────────┤\n",
      "│       8950 │ The Machinist (2004)                │ Drama|Mystery|Thriller                │               3.86 │         3.99 │\n",
      "╘════════════╧═════════════════════════════════════╧═══════════════════════════════════════╧════════════════════╧══════════════╛\n",
      "\u001b[1m59/59\u001b[0m \u001b[32m━━━━━━━━━━━━━━━━━━━━\u001b[0m\u001b[37m\u001b[0m \u001b[1m0s\u001b[0m 3ms/step \n",
      "\n",
      "🔹 Top 10 Recommendations for User 5002:\n",
      "╒════════════╤═════════════════════════════════════════════════════════════╤════════════════════════════════════════════════╤════════════════════╤══════════════╕\n",
      "│   Movie ID │ Title                                                       │ Genres                                         │   Predicted Rating │   Avg Rating │\n",
      "╞════════════╪═════════════════════════════════════════════════════════════╪════════════════════════════════════════════════╪════════════════════╪══════════════╡\n",
      "│      91542 │ Sherlock Holmes: A Game of Shadows (2011)                   │ Action|Adventure|Comedy|Crime|Mystery|Thriller │               4.88 │         3.76 │\n",
      "├────────────┼─────────────────────────────────────────────────────────────┼────────────────────────────────────────────────┼────────────────────┼──────────────┤\n",
      "│      85414 │ Source Code (2011)                                          │ Action|Drama|Mystery|Sci-Fi|Thriller           │               4.85 │         3.6  │\n",
      "├────────────┼─────────────────────────────────────────────────────────────┼────────────────────────────────────────────────┼────────────────────┼──────────────┤\n",
      "│     112175 │ How to Train Your Dragon 2 (2014)                           │ Action|Adventure|Animation                     │               4.85 │         3.77 │\n",
      "├────────────┼─────────────────────────────────────────────────────────────┼────────────────────────────────────────────────┼────────────────────┼──────────────┤\n",
      "│      47997 │ Idiocracy (2006)                                            │ Adventure|Comedy|Sci-Fi|Thriller               │               4.84 │         3.72 │\n",
      "├────────────┼─────────────────────────────────────────────────────────────┼────────────────────────────────────────────────┼────────────────────┼──────────────┤\n",
      "│     122900 │ Ant-Man (2015)                                              │ Action|Adventure|Sci-Fi                        │               4.84 │         3.72 │\n",
      "├────────────┼─────────────────────────────────────────────────────────────┼────────────────────────────────────────────────┼────────────────────┼──────────────┤\n",
      "│      96610 │ Looper (2012)                                               │ Action|Crime|Sci-Fi                            │               4.84 │         3.64 │\n",
      "├────────────┼─────────────────────────────────────────────────────────────┼────────────────────────────────────────────────┼────────────────────┼──────────────┤\n",
      "│      36708 │ Family Guy Presents Stewie Griffin: The Untold Story (2005) │ Adventure|Animation|Comedy                     │               4.83 │         3.71 │\n",
      "├────────────┼─────────────────────────────────────────────────────────────┼────────────────────────────────────────────────┼────────────────────┼──────────────┤\n",
      "│     135133 │ The Hunger Games: Mockingjay - Part 2 (2015)                │ Adventure|Sci-Fi                               │               4.83 │         3.7  │\n",
      "├────────────┼─────────────────────────────────────────────────────────────┼────────────────────────────────────────────────┼────────────────────┼──────────────┤\n",
      "│      71057 │ 9 (2009)                                                    │ Adventure|Animation|Sci-Fi                     │               4.83 │         3.64 │\n",
      "├────────────┼─────────────────────────────────────────────────────────────┼────────────────────────────────────────────────┼────────────────────┼──────────────┤\n",
      "│     122922 │ Doctor Strange (2016)                                       │ Action|Adventure|Sci-Fi                        │               4.83 │         3.7  │\n",
      "╘════════════╧═════════════════════════════════════════════════════════════╧════════════════════════════════════════════════╧════════════════════╧══════════════╛\n",
      "\u001b[1m59/59\u001b[0m \u001b[32m━━━━━━━━━━━━━━━━━━━━\u001b[0m\u001b[37m\u001b[0m \u001b[1m0s\u001b[0m 3ms/step \n",
      "\n",
      "🔹 Top 10 Recommendations for User 5003:\n",
      "╒════════════╤════════════════════════════════════════════════════════════════╤═══════════════════════════════════════╤════════════════════╤══════════════╕\n",
      "│   Movie ID │ Title                                                          │ Genres                                │   Predicted Rating │   Avg Rating │\n",
      "╞════════════╪════════════════════════════════════════════════════════════════╪═══════════════════════════════════════╪════════════════════╪══════════════╡\n",
      "│      71899 │ Mary and Max (2009)                                            │ Animation|Comedy|Drama                │               4.7  │         4.2  │\n",
      "├────────────┼────────────────────────────────────────────────────────────────┼───────────────────────────────────────┼────────────────────┼──────────────┤\n",
      "│       7361 │ Eternal Sunshine of the Spotless Mind (2004)                   │ Drama|Romance|Sci-Fi                  │               4.67 │         4.16 │\n",
      "├────────────┼────────────────────────────────────────────────────────────────┼───────────────────────────────────────┼────────────────────┼──────────────┤\n",
      "│      57504 │ Girl Who Leapt Through Time, The (Toki o kakeru shÃ´jo) (2006) │ Animation|Comedy|Drama|Romance|Sci-Fi │               4.67 │         4.1  │\n",
      "├────────────┼────────────────────────────────────────────────────────────────┼───────────────────────────────────────┼────────────────────┼──────────────┤\n",
      "│       8874 │ Shaun of the Dead (2004)                                       │ Comedy|Horror                         │               4.66 │         4.01 │\n",
      "├────────────┼────────────────────────────────────────────────────────────────┼───────────────────────────────────────┼────────────────────┼──────────────┤\n",
      "│      55442 │ Persepolis (2007)                                              │ Animation|Drama                       │               4.65 │         4.18 │\n",
      "├────────────┼────────────────────────────────────────────────────────────────┼───────────────────────────────────────┼────────────────────┼──────────────┤\n",
      "│      31658 │ Howl's Moving Castle (Hauru no ugoku shiro) (2004)             │ Adventure|Animation|Fantasy|Romance   │               4.65 │         4.08 │\n",
      "├────────────┼────────────────────────────────────────────────────────────────┼───────────────────────────────────────┼────────────────────┼──────────────┤\n",
      "│       7361 │ Eternal Sunshine of the Spotless Mind (2004)                   │ Drama|Romance|Sci-Fi                  │               4.65 │         4.16 │\n",
      "├────────────┼────────────────────────────────────────────────────────────────┼───────────────────────────────────────┼────────────────────┼──────────────┤\n",
      "│      38061 │ Kiss Kiss Bang Bang (2005)                                     │ Comedy|Crime|Mystery|Thriller         │               4.65 │         4.07 │\n",
      "├────────────┼────────────────────────────────────────────────────────────────┼───────────────────────────────────────┼────────────────────┼──────────────┤\n",
      "│       6502 │ 28 Days Later (2002)                                           │ Action|Horror|Sci-Fi                  │               4.65 │         3.97 │\n",
      "├────────────┼────────────────────────────────────────────────────────────────┼───────────────────────────────────────┼────────────────────┼──────────────┤\n",
      "│       6711 │ Lost in Translation (2003)                                     │ Comedy|Drama|Romance                  │               4.64 │         4.03 │\n",
      "╘════════════╧════════════════════════════════════════════════════════════════╧═══════════════════════════════════════╧════════════════════╧══════════════╛\n"
     ]
    }
   ],
   "source": [
    "#testing our hypothesis (code is made using ChatGpt)\n",
    "\n",
    "# Helper function\n",
    "from tabulate import tabulate \n",
    "\n",
    "def create_user_vec(user_id, rating_count, rating_ave, genres):\n",
    "    return np.array([[user_id, rating_count, rating_ave] + genres])\n",
    "\n",
    "def predict_for_new_user(user_id, rating_count, rating_ave, genres):\n",
    "    user_vec = create_user_vec(user_id, rating_count, rating_ave, genres)\n",
    "    user_vec_trimmed = user_vec[:, :user_train.shape[1]]  # ensure feature count matches training\n",
    "    user_vecs = gen_user_vecs(user_vec_trimmed, len(item_vecs))\n",
    "\n",
    "    sorted_index, sorted_ypu, sorted_items, sorted_user = predict_uservec(\n",
    "        user_vecs, item_vecs, model, u_s, i_s, scaler, scalerUser, scalerItem, scaledata=scaledata\n",
    "    )\n",
    "\n",
    "    print(f\"\\n🔹 Top 10 Recommendations for User {user_id}:\")\n",
    "    predictions = []\n",
    "    for i in range(10):\n",
    "        movie_id = int(sorted_items[i, 0])\n",
    "        title = movie_dict[movie_id]['title']\n",
    "        genres_str = movie_dict[movie_id]['genres']\n",
    "        rating = round(float(sorted_ypu[i, 0]), 2)\n",
    "        avg_rating = round(float(sorted_items[i, 2]), 2)\n",
    "        predictions.append([movie_id, title, genres_str, rating, avg_rating])\n",
    "\n",
    "    print(tabulate(predictions, headers=[\"Movie ID\", \"Title\", \"Genres\", \"Predicted Rating\", \"Avg Rating\"], tablefmt=\"fancy_grid\"))\n",
    "\n",
    "\n",
    "#  User 1\n",
    "new_user_id = 5000\n",
    "new_rating_count = 3\n",
    "new_rating_ave = 1.0\n",
    "genres_user1 = [1.0, 1, 1, 1, 5, 1, 1, 1, 1, 1, 1, 1, 5, 5, 1]\n",
    "predict_for_new_user(new_user_id, new_rating_count, new_rating_ave, genres_user1)\n",
    "\n",
    "# User 2\n",
    "new_user_id = 5001\n",
    "new_rating_count = np.random.randint(2, 10)\n",
    "new_rating_ave = round(np.random.uniform(2.0, 4.5), 1)\n",
    "genres_user2 = np.random.randint(0, 6, size=15).tolist()\n",
    "predict_for_new_user(new_user_id, new_rating_count, new_rating_ave, genres_user2)\n",
    "\n",
    "#  User 3\n",
    "new_user_id = 5002\n",
    "new_rating_count = np.random.randint(1, 5)\n",
    "new_rating_ave = round(np.random.uniform(1.5, 4.0), 1)\n",
    "genres_user3 = np.random.randint(0, 6, size=15).tolist()\n",
    "predict_for_new_user(new_user_id, new_rating_count, new_rating_ave, genres_user3)\n",
    "\n",
    "# User 4\n",
    "new_user_id = 5003\n",
    "new_rating_count = np.random.randint(3, 8)\n",
    "new_rating_ave = round(np.random.uniform(2.5, 4.8), 1)\n",
    "genres_user4 = [np.random.choice([0, 1, 5]) for _ in range(15)]\n",
    "predict_for_new_user(new_user_id, new_rating_count, new_rating_ave, genres_user4)\n"
   ]
  },
  {
   "cell_type": "code",
   "execution_count": null,
   "id": "542940a5-e95e-4ef7-960a-52529fcec60d",
   "metadata": {},
   "outputs": [],
   "source": [
    "# the top ten recomendatons for these 4 new users who have rated movies similarly appears to consist of movies majorly from the time frame 2004-2007,hence proving our claim."
   ]
  }
 ],
 "metadata": {
  "kernelspec": {
   "display_name": "Python 3 (ipykernel)",
   "language": "python",
   "name": "python3"
  },
  "language_info": {
   "codemirror_mode": {
    "name": "ipython",
    "version": 3
   },
   "file_extension": ".py",
   "mimetype": "text/x-python",
   "name": "python",
   "nbconvert_exporter": "python",
   "pygments_lexer": "ipython3",
   "version": "3.12.5"
  }
 },
 "nbformat": 4,
 "nbformat_minor": 5
}
